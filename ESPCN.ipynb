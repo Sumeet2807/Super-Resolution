{
  "cells": [
    {
      "cell_type": "code",
      "execution_count": 5,
      "metadata": {
        "id": "p4oaeuCov7ME"
      },
      "outputs": [],
      "source": [
        "import math\n",
        "from torch import nn\n",
        "\n",
        "\n",
        "class ESPCN(nn.Module):\n",
        "    def __init__(self, scale_factor, num_channels=1):\n",
        "        super(ESPCN, self).__init__()\n",
        "        self.first_part = nn.Sequential(\n",
        "            nn.Conv2d(num_channels, 64, kernel_size=5, padding=5//2),\n",
        "            nn.Tanh(),\n",
        "            nn.Conv2d(64, 32, kernel_size=3, padding=3//2),\n",
        "            nn.Tanh(),\n",
        "        )\n",
        "        self.last_part = nn.Sequential(\n",
        "            nn.Conv2d(32, num_channels * (scale_factor ** 2), kernel_size=3, padding=3 // 2),\n",
        "            # nn.Conv2d(32, num_channels, kernel_size=3, padding=3 // 2),\n",
        "            nn.PixelShuffle(scale_factor)\n",
        "        )\n",
        "\n",
        "        self._initialize_weights()\n",
        "\n",
        "    def _initialize_weights(self):\n",
        "        for m in self.modules():\n",
        "            if isinstance(m, nn.Conv2d):\n",
        "                if m.in_channels == 32:\n",
        "                    nn.init.normal_(m.weight.data, mean=0.0, std=0.001)\n",
        "                    nn.init.zeros_(m.bias.data)\n",
        "                else:\n",
        "                    nn.init.normal_(m.weight.data, mean=0.0, std=math.sqrt(2/(m.out_channels*m.weight.data[0][0].numel())))\n",
        "                    nn.init.zeros_(m.bias.data)\n",
        "\n",
        "    def forward(self, x):\n",
        "        x = self.first_part(x)\n",
        "        x = self.last_part(x)\n",
        "        return x"
      ]
    },
    {
      "cell_type": "code",
      "execution_count": 3,
      "metadata": {
        "id": "4SUro6th3pSS"
      },
      "outputs": [],
      "source": [
        "import torch\n",
        "import numpy as np\n",
        "\n",
        "\n",
        "def calc_patch_size(func):\n",
        "    def wrapper(args):\n",
        "        if args.scale == 2:\n",
        "            args.patch_size = 10\n",
        "        elif args.scale == 3:\n",
        "            args.patch_size = 7\n",
        "        elif args.scale == 4:\n",
        "            args.patch_size = 6\n",
        "        else:\n",
        "            raise Exception('Scale Error', args.scale)\n",
        "        return func(args)\n",
        "    return wrapper\n",
        "\n",
        "\n",
        "def convert_rgb_to_y(img, dim_order='hwc'):\n",
        "    if dim_order == 'hwc':\n",
        "        return 16. + (64.738 * img[..., 0] + 129.057 * img[..., 1] + 25.064 * img[..., 2]) / 256.\n",
        "    else:\n",
        "        return 16. + (64.738 * img[0] + 129.057 * img[1] + 25.064 * img[2]) / 256.\n",
        "\n",
        "\n",
        "def convert_rgb_to_ycbcr(img, dim_order='hwc'):\n",
        "    if dim_order == 'hwc':\n",
        "        y = 16. + (64.738 * img[..., 0] + 129.057 * img[..., 1] + 25.064 * img[..., 2]) / 256.\n",
        "        cb = 128. + (-37.945 * img[..., 0] - 74.494 * img[..., 1] + 112.439 * img[..., 2]) / 256.\n",
        "        cr = 128. + (112.439 * img[..., 0] - 94.154 * img[..., 1] - 18.285 * img[..., 2]) / 256.\n",
        "    else:\n",
        "        y = 16. + (64.738 * img[0] + 129.057 * img[1] + 25.064 * img[2]) / 256.\n",
        "        cb = 128. + (-37.945 * img[0] - 74.494 * img[1] + 112.439 * img[2]) / 256.\n",
        "        cr = 128. + (112.439 * img[0] - 94.154 * img[1] - 18.285 * img[2]) / 256.\n",
        "    return np.array([y, cb, cr]).transpose([1, 2, 0])\n",
        "\n",
        "\n",
        "def convert_ycbcr_to_rgb(img, dim_order='hwc'):\n",
        "    if dim_order == 'hwc':\n",
        "        r = 298.082 * img[..., 0] / 256. + 408.583 * img[..., 2] / 256. - 222.921\n",
        "        g = 298.082 * img[..., 0] / 256. - 100.291 * img[..., 1] / 256. - 208.120 * img[..., 2] / 256. + 135.576\n",
        "        b = 298.082 * img[..., 0] / 256. + 516.412 * img[..., 1] / 256. - 276.836\n",
        "    else:\n",
        "        r = 298.082 * img[0] / 256. + 408.583 * img[2] / 256. - 222.921\n",
        "        g = 298.082 * img[0] / 256. - 100.291 * img[1] / 256. - 208.120 * img[2] / 256. + 135.576\n",
        "        b = 298.082 * img[0] / 256. + 516.412 * img[1] / 256. - 276.836\n",
        "    return np.array([r, g, b]).transpose([1, 2, 0])\n",
        "\n",
        "\n",
        "def preprocess(img, device):\n",
        "    img = np.array(img).astype(np.float32)\n",
        "    ycbcr = convert_rgb_to_ycbcr(img)\n",
        "    x = ycbcr[..., 0]\n",
        "    x /= 255.\n",
        "    x = torch.from_numpy(x).to(device)\n",
        "    x = x.unsqueeze(0).unsqueeze(0)\n",
        "    return x, ycbcr\n",
        "\n",
        "\n",
        "def calc_psnr(img1, img2):\n",
        "    return 10. * torch.log10(1. / torch.mean((img1 - img2) ** 2))\n",
        "\n",
        "\n",
        "class AverageMeter(object):\n",
        "    def __init__(self):\n",
        "        self.reset()\n",
        "\n",
        "    def reset(self):\n",
        "        self.val = 0\n",
        "        self.avg = 0\n",
        "        self.sum = 0\n",
        "        self.count = 0\n",
        "\n",
        "    def update(self, val, n=1):\n",
        "        self.val = val\n",
        "        self.sum += val * n\n",
        "        self.count += n\n",
        "        self.avg = self.sum / self.count"
      ]
    },
    {
      "cell_type": "code",
      "execution_count": 6,
      "metadata": {
        "id": "vDXBRMob4UX1"
      },
      "outputs": [],
      "source": [
        "import h5py\n",
        "import numpy as np\n",
        "from torch.utils.data import Dataset\n",
        "\n",
        "\n",
        "class TrainDataset(Dataset):\n",
        "    def __init__(self, h5_file):\n",
        "        super(TrainDataset, self).__init__()\n",
        "        self.h5_file = h5_file\n",
        "\n",
        "    def __getitem__(self, idx):\n",
        "        with h5py.File(self.h5_file, 'r') as f:\n",
        "            return np.expand_dims(f['lr'][idx] / 255., 0), np.expand_dims(f['hr'][idx] / 255., 0)\n",
        "\n",
        "    def __len__(self):\n",
        "        with h5py.File(self.h5_file, 'r') as f:\n",
        "            return len(f['lr'])\n",
        "\n",
        "\n",
        "class EvalDataset(Dataset):\n",
        "    def __init__(self, h5_file):\n",
        "        super(EvalDataset, self).__init__()\n",
        "        self.h5_file = h5_file\n",
        "\n",
        "    def __getitem__(self, idx):\n",
        "        with h5py.File(self.h5_file, 'r') as f:\n",
        "            return np.expand_dims(f['lr'][str(idx)][:, :] / 255., 0), np.expand_dims(f['hr'][str(idx)][:, :] / 255., 0)\n",
        "\n",
        "    def __len__(self):\n",
        "        with h5py.File(self.h5_file, 'r') as f:\n",
        "            return len(f['lr'])"
      ]
    },
    {
      "cell_type": "code",
      "execution_count": 8,
      "metadata": {
        "colab": {
          "base_uri": "https://localhost:8080/",
          "height": 1000
        },
        "id": "U4joRfh33vDf",
        "outputId": "8bd8e36b-a20f-4163-dae0-c25f5d7bcf6c"
      },
      "outputs": [
        {
          "output_type": "stream",
          "name": "stderr",
          "text": [
            "/usr/local/lib/python3.7/dist-packages/torch/utils/data/dataloader.py:481: UserWarning: This DataLoader will create 8 worker processes in total. Our suggested max number of worker in current system is 2, which is smaller than what this DataLoader is going to create. Please be aware that excessive worker creation might get DataLoader running slow or even freeze, lower the worker number to avoid potential slowness/freeze if necessary.\n",
            "  cpuset_checked))\n",
            "epoch: 0/49: : 21910it [02:21, 154.64it/s, loss=0.002480]\n"
          ]
        },
        {
          "output_type": "stream",
          "name": "stdout",
          "text": [
            "eval psnr: 33.78\n"
          ]
        },
        {
          "output_type": "stream",
          "name": "stderr",
          "text": [
            "epoch: 1/49: : 21910it [02:27, 148.99it/s, loss=0.000849]                       \n"
          ]
        },
        {
          "output_type": "stream",
          "name": "stdout",
          "text": [
            "eval psnr: 32.91\n"
          ]
        },
        {
          "output_type": "stream",
          "name": "stderr",
          "text": [
            "epoch: 2/49: : 21910it [02:34, 141.85it/s, loss=0.000779]                       \n"
          ]
        },
        {
          "output_type": "stream",
          "name": "stdout",
          "text": [
            "eval psnr: 33.88\n"
          ]
        },
        {
          "output_type": "stream",
          "name": "stderr",
          "text": [
            "epoch: 3/49: : 21910it [02:38, 138.34it/s, loss=0.000757]                       \n"
          ]
        },
        {
          "output_type": "stream",
          "name": "stdout",
          "text": [
            "eval psnr: 34.41\n"
          ]
        },
        {
          "output_type": "stream",
          "name": "stderr",
          "text": [
            "epoch: 4/49: : 21910it [02:40, 136.42it/s, loss=0.000746]                       \n"
          ]
        },
        {
          "output_type": "stream",
          "name": "stdout",
          "text": [
            "eval psnr: 34.48\n"
          ]
        },
        {
          "output_type": "stream",
          "name": "stderr",
          "text": [
            "epoch: 5/49: : 21910it [02:39, 137.13it/s, loss=0.000741]                       \n"
          ]
        },
        {
          "output_type": "stream",
          "name": "stdout",
          "text": [
            "eval psnr: 34.61\n"
          ]
        },
        {
          "output_type": "stream",
          "name": "stderr",
          "text": [
            "epoch: 6/49: : 21910it [02:43, 133.88it/s, loss=0.000986]\n"
          ]
        },
        {
          "output_type": "stream",
          "name": "stdout",
          "text": [
            "eval psnr: 33.55\n"
          ]
        },
        {
          "output_type": "stream",
          "name": "stderr",
          "text": [
            "epoch: 7/49: : 21910it [02:42, 134.78it/s, loss=0.000736]                       \n"
          ]
        },
        {
          "output_type": "stream",
          "name": "stdout",
          "text": [
            "eval psnr: 34.56\n"
          ]
        },
        {
          "output_type": "stream",
          "name": "stderr",
          "text": [
            "epoch: 8/49: : 21910it [02:45, 132.54it/s, loss=0.000720]\n"
          ]
        },
        {
          "output_type": "stream",
          "name": "stdout",
          "text": [
            "eval psnr: 34.81\n"
          ]
        },
        {
          "output_type": "stream",
          "name": "stderr",
          "text": [
            "epoch: 9/49: : 21910it [02:42, 134.55it/s, loss=0.000720]\n"
          ]
        },
        {
          "output_type": "stream",
          "name": "stdout",
          "text": [
            "eval psnr: 34.85\n"
          ]
        },
        {
          "output_type": "stream",
          "name": "stderr",
          "text": [
            "epoch: 10/49: : 21910it [02:38, 138.60it/s, loss=0.000715]                      \n"
          ]
        },
        {
          "output_type": "stream",
          "name": "stdout",
          "text": [
            "eval psnr: 34.40\n"
          ]
        },
        {
          "output_type": "stream",
          "name": "stderr",
          "text": [
            "epoch: 11/49: : 21910it [02:37, 139.32it/s, loss=0.000716]                      \n"
          ]
        },
        {
          "output_type": "stream",
          "name": "stdout",
          "text": [
            "eval psnr: 34.87\n"
          ]
        },
        {
          "output_type": "stream",
          "name": "stderr",
          "text": [
            "epoch: 12/49: : 21910it [02:39, 137.02it/s, loss=0.000858]\n"
          ]
        },
        {
          "output_type": "stream",
          "name": "stdout",
          "text": [
            "eval psnr: 34.68\n"
          ]
        },
        {
          "output_type": "stream",
          "name": "stderr",
          "text": [
            "epoch: 13/49: : 21910it [02:41, 135.62it/s, loss=0.000695]                      \n"
          ]
        },
        {
          "output_type": "stream",
          "name": "stdout",
          "text": [
            "eval psnr: 34.61\n"
          ]
        },
        {
          "output_type": "stream",
          "name": "stderr",
          "text": [
            "epoch: 14/49: : 21910it [02:40, 136.58it/s, loss=0.000695]                      \n"
          ]
        },
        {
          "output_type": "stream",
          "name": "stdout",
          "text": [
            "eval psnr: 34.83\n"
          ]
        },
        {
          "output_type": "stream",
          "name": "stderr",
          "text": [
            "epoch: 15/49: : 21910it [02:35, 141.32it/s, loss=0.000692]\n"
          ]
        },
        {
          "output_type": "stream",
          "name": "stdout",
          "text": [
            "eval psnr: 35.18\n"
          ]
        },
        {
          "output_type": "stream",
          "name": "stderr",
          "text": [
            "epoch: 16/49: : 21910it [02:36, 139.96it/s, loss=0.000802]                      \n"
          ]
        },
        {
          "output_type": "stream",
          "name": "stdout",
          "text": [
            "eval psnr: 35.04\n"
          ]
        },
        {
          "output_type": "stream",
          "name": "stderr",
          "text": [
            "epoch: 17/49: : 21910it [02:37, 138.94it/s, loss=0.000677]                      \n"
          ]
        },
        {
          "output_type": "stream",
          "name": "stdout",
          "text": [
            "eval psnr: 35.18\n"
          ]
        },
        {
          "output_type": "stream",
          "name": "stderr",
          "text": [
            "epoch: 18/49: : 21910it [02:40, 136.12it/s, loss=0.000676]                      \n"
          ]
        },
        {
          "output_type": "stream",
          "name": "stdout",
          "text": [
            "eval psnr: 35.30\n"
          ]
        },
        {
          "output_type": "stream",
          "name": "stderr",
          "text": [
            "epoch: 19/49: : 21910it [02:44, 133.52it/s, loss=0.000685]                      \n"
          ]
        },
        {
          "output_type": "stream",
          "name": "stdout",
          "text": [
            "eval psnr: 35.24\n"
          ]
        },
        {
          "output_type": "stream",
          "name": "stderr",
          "text": [
            "epoch: 20/49: : 21910it [02:38, 137.95it/s, loss=0.000680]                      \n"
          ]
        },
        {
          "output_type": "stream",
          "name": "stdout",
          "text": [
            "eval psnr: 35.39\n"
          ]
        },
        {
          "output_type": "stream",
          "name": "stderr",
          "text": [
            "epoch: 21/49: : 21910it [02:41, 136.06it/s, loss=0.000670]                      \n"
          ]
        },
        {
          "output_type": "stream",
          "name": "stdout",
          "text": [
            "eval psnr: 34.82\n"
          ]
        },
        {
          "output_type": "stream",
          "name": "stderr",
          "text": [
            "epoch: 22/49: : 21910it [02:40, 136.44it/s, loss=0.000663]                      \n"
          ]
        },
        {
          "output_type": "stream",
          "name": "stdout",
          "text": [
            "eval psnr: 35.57\n"
          ]
        },
        {
          "output_type": "stream",
          "name": "stderr",
          "text": [
            "epoch: 23/49: : 21910it [02:40, 136.16it/s, loss=0.000662]\n"
          ]
        },
        {
          "output_type": "stream",
          "name": "stdout",
          "text": [
            "eval psnr: 35.60\n"
          ]
        },
        {
          "output_type": "stream",
          "name": "stderr",
          "text": [
            "epoch: 24/49: : 21910it [02:41, 135.95it/s, loss=0.000657]                      \n"
          ]
        },
        {
          "output_type": "stream",
          "name": "stdout",
          "text": [
            "eval psnr: 34.02\n"
          ]
        },
        {
          "output_type": "stream",
          "name": "stderr",
          "text": [
            "epoch: 25/49: : 21910it [02:36, 139.90it/s, loss=0.000658]                      \n"
          ]
        },
        {
          "output_type": "stream",
          "name": "stdout",
          "text": [
            "eval psnr: 35.37\n"
          ]
        },
        {
          "output_type": "stream",
          "name": "stderr",
          "text": [
            "epoch: 26/49: : 21910it [02:37, 138.97it/s, loss=0.000654]                      \n"
          ]
        },
        {
          "output_type": "stream",
          "name": "stdout",
          "text": [
            "eval psnr: 35.42\n"
          ]
        },
        {
          "output_type": "stream",
          "name": "stderr",
          "text": [
            "epoch: 27/49: : 21910it [02:42, 134.82it/s, loss=0.000882]                      \n"
          ]
        },
        {
          "output_type": "stream",
          "name": "stdout",
          "text": [
            "eval psnr: 35.47\n"
          ]
        },
        {
          "output_type": "stream",
          "name": "stderr",
          "text": [
            "epoch: 28/49: : 21910it [02:34, 142.13it/s, loss=0.000640]                      \n"
          ]
        },
        {
          "output_type": "stream",
          "name": "stdout",
          "text": [
            "eval psnr: 35.46\n"
          ]
        },
        {
          "output_type": "stream",
          "name": "stderr",
          "text": [
            "epoch: 29/49: : 21910it [02:31, 144.31it/s, loss=0.000639]                      \n"
          ]
        },
        {
          "output_type": "stream",
          "name": "stdout",
          "text": [
            "eval psnr: 35.63\n"
          ]
        },
        {
          "output_type": "stream",
          "name": "stderr",
          "text": [
            "epoch: 30/49: : 21910it [02:41, 135.70it/s, loss=0.000647]\n"
          ]
        },
        {
          "output_type": "stream",
          "name": "stdout",
          "text": [
            "eval psnr: 35.70\n"
          ]
        },
        {
          "output_type": "stream",
          "name": "stderr",
          "text": [
            "epoch: 31/49: : 21910it [02:40, 136.93it/s, loss=0.000642]                      \n"
          ]
        },
        {
          "output_type": "stream",
          "name": "stdout",
          "text": [
            "eval psnr: 35.50\n"
          ]
        },
        {
          "output_type": "stream",
          "name": "stderr",
          "text": [
            "epoch: 32/49: : 21910it [02:43, 134.05it/s, loss=0.000645]                      \n"
          ]
        },
        {
          "output_type": "stream",
          "name": "stdout",
          "text": [
            "eval psnr: 35.72\n"
          ]
        },
        {
          "output_type": "stream",
          "name": "stderr",
          "text": [
            "epoch: 33/49: : 21910it [02:42, 134.91it/s, loss=0.000643]                      \n"
          ]
        },
        {
          "output_type": "stream",
          "name": "stdout",
          "text": [
            "eval psnr: 35.74\n"
          ]
        },
        {
          "output_type": "stream",
          "name": "stderr",
          "text": [
            "epoch: 34/49: : 21910it [02:42, 134.89it/s, loss=0.001077]                      \n"
          ]
        },
        {
          "output_type": "stream",
          "name": "stdout",
          "text": [
            "eval psnr: 35.18\n"
          ]
        },
        {
          "output_type": "stream",
          "name": "stderr",
          "text": [
            "epoch: 35/49: : 21910it [02:43, 133.70it/s, loss=0.000655]\n"
          ]
        },
        {
          "output_type": "stream",
          "name": "stdout",
          "text": [
            "eval psnr: 35.35\n"
          ]
        },
        {
          "output_type": "stream",
          "name": "stderr",
          "text": [
            "epoch: 36/49: : 21910it [02:41, 135.78it/s, loss=0.000638]                      \n"
          ]
        },
        {
          "output_type": "stream",
          "name": "stdout",
          "text": [
            "eval psnr: 35.74\n"
          ]
        },
        {
          "output_type": "stream",
          "name": "stderr",
          "text": [
            "epoch: 37/49: : 21910it [02:41, 135.29it/s, loss=0.000635]                      \n"
          ]
        },
        {
          "output_type": "stream",
          "name": "stdout",
          "text": [
            "eval psnr: 35.55\n"
          ]
        },
        {
          "output_type": "stream",
          "name": "stderr",
          "text": [
            "epoch: 38/49: : 21910it [02:32, 143.81it/s, loss=0.000639]                      \n"
          ]
        },
        {
          "output_type": "stream",
          "name": "stdout",
          "text": [
            "eval psnr: 35.38\n"
          ]
        },
        {
          "output_type": "stream",
          "name": "stderr",
          "text": [
            "epoch: 39/49: : 21910it [02:39, 137.61it/s, loss=0.000642]\n"
          ]
        },
        {
          "output_type": "stream",
          "name": "stdout",
          "text": [
            "eval psnr: 35.80\n"
          ]
        },
        {
          "output_type": "stream",
          "name": "stderr",
          "text": [
            "epoch: 40/49: : 21910it [02:41, 135.29it/s, loss=0.000624]                      \n"
          ]
        },
        {
          "output_type": "stream",
          "name": "stdout",
          "text": [
            "eval psnr: 35.82\n"
          ]
        },
        {
          "output_type": "stream",
          "name": "stderr",
          "text": [
            "epoch: 41/49: : 21910it [02:41, 135.67it/s, loss=0.000624]                      \n"
          ]
        },
        {
          "output_type": "stream",
          "name": "stdout",
          "text": [
            "eval psnr: 35.82\n"
          ]
        },
        {
          "output_type": "stream",
          "name": "stderr",
          "text": [
            "epoch: 42/49: : 21910it [02:42, 134.69it/s, loss=0.000624]                      \n"
          ]
        },
        {
          "output_type": "stream",
          "name": "stdout",
          "text": [
            "eval psnr: 35.82\n"
          ]
        },
        {
          "output_type": "stream",
          "name": "stderr",
          "text": [
            "epoch: 43/49: : 21910it [02:42, 134.69it/s, loss=0.000624]                      \n"
          ]
        },
        {
          "output_type": "stream",
          "name": "stdout",
          "text": [
            "eval psnr: 35.82\n"
          ]
        },
        {
          "output_type": "stream",
          "name": "stderr",
          "text": [
            "epoch: 44/49: : 21910it [02:41, 135.27it/s, loss=0.000623]                      \n"
          ]
        },
        {
          "output_type": "stream",
          "name": "stdout",
          "text": [
            "eval psnr: 35.84\n"
          ]
        },
        {
          "output_type": "stream",
          "name": "stderr",
          "text": [
            "epoch: 45/49: : 21910it [02:43, 133.76it/s, loss=0.000623]\n"
          ]
        },
        {
          "output_type": "stream",
          "name": "stdout",
          "text": [
            "eval psnr: 35.83\n"
          ]
        },
        {
          "output_type": "stream",
          "name": "stderr",
          "text": [
            "epoch: 46/49: : 21910it [02:44, 133.49it/s, loss=0.000622]                      \n"
          ]
        },
        {
          "output_type": "stream",
          "name": "stdout",
          "text": [
            "eval psnr: 35.82\n"
          ]
        },
        {
          "output_type": "stream",
          "name": "stderr",
          "text": [
            "epoch: 47/49: : 21910it [02:43, 134.31it/s, loss=0.000622]                      \n"
          ]
        },
        {
          "output_type": "stream",
          "name": "stdout",
          "text": [
            "eval psnr: 35.83\n"
          ]
        },
        {
          "output_type": "stream",
          "name": "stderr",
          "text": [
            "epoch: 48/49: : 21910it [02:30, 145.23it/s, loss=0.000621]                      \n"
          ]
        },
        {
          "output_type": "stream",
          "name": "stdout",
          "text": [
            "eval psnr: 35.83\n"
          ]
        },
        {
          "output_type": "stream",
          "name": "stderr",
          "text": [
            "epoch: 49/49: : 21910it [02:44, 132.91it/s, loss=0.000621]                      \n"
          ]
        },
        {
          "output_type": "stream",
          "name": "stdout",
          "text": [
            "eval psnr: 35.83\n",
            "best epoch: 44, psnr: 35.84\n"
          ]
        },
        {
          "output_type": "display_data",
          "data": {
            "text/plain": [
              "<Figure size 432x288 with 1 Axes>"
            ],
            "image/png": "[encoded data removed]"
          },
          "metadata": {
            "needs_background": "light"
          }
        },
        {
          "output_type": "display_data",
          "data": {
            "text/plain": [
              "<Figure size 432x288 with 1 Axes>"
            ],
            "image/png": "[encoded data removed]"
          },
          "metadata": {
            "needs_background": "light"
          }
        }
      ],
      "source": [
        "import argparse\n",
        "import os\n",
        "import copy\n",
        "\n",
        "import torch\n",
        "from torch import nn\n",
        "import torch.optim as optim\n",
        "import torch.backends.cudnn as cudnn\n",
        "from torch.utils.data.dataloader import DataLoader\n",
        "from tqdm import tqdm\n",
        "\n",
        "\n",
        "if __name__ == '__main__':\n",
        "    train_file = \"/content/drive/MyDrive/ML Project/91-image_x2.h5\"\n",
        "    eval_file = \"/content/drive/MyDrive/ML Project/Set5_x2.h5\"\n",
        "    scale = 1\n",
        "    outputs_dir = \"output_espcn\"\n",
        "    lr = 0.001\n",
        "    batch_size = 16\n",
        "    num_epochs = 50\n",
        "    num_workers = 8\n",
        "    seed = 123\n",
        "\n",
        "    outputs_dir = os.path.join(outputs_dir, 'x{}'.format(scale))\n",
        "\n",
        "    if not os.path.exists(outputs_dir):\n",
        "        os.makedirs(outputs_dir)\n",
        "\n",
        "    cudnn.benchmark = True\n",
        "    device = torch.device('cuda:0' if torch.cuda.is_available() else 'cpu')\n",
        "\n",
        "    torch.manual_seed(seed)\n",
        "\n",
        "    model = ESPCN(scale_factor=scale).to(device)\n",
        "    criterion = nn.MSELoss()\n",
        "    optimizer = optim.Adam([\n",
        "        {'params': model.first_part.parameters()},\n",
        "        {'params': model.last_part.parameters(), 'lr': lr * 0.1}\n",
        "    ], lr=lr)\n",
        "\n",
        "    train_dataset = TrainDataset(train_file)\n",
        "    train_dataloader = DataLoader(dataset=train_dataset,\n",
        "                                  batch_size=batch_size,\n",
        "                                  shuffle=True,\n",
        "                                  num_workers=num_workers,\n",
        "                                  pin_memory=True)\n",
        "    eval_dataset = EvalDataset(eval_file)\n",
        "    eval_dataloader = DataLoader(dataset=eval_dataset, batch_size=1)\n",
        "\n",
        "    best_weights = copy.deepcopy(model.state_dict())\n",
        "    best_epoch = 0\n",
        "    best_psnr = 0.0\n",
        "\n",
        "    epoch_train_psnrs = []\n",
        "    epoch_val_psnrs = []\n",
        "\n",
        "    epoch_train_losses = []\n",
        "    epoch_val_losses = []\n",
        "\n",
        "    for epoch in range(num_epochs):\n",
        "        for param_group in optimizer.param_groups:\n",
        "            param_group['lr'] = lr * (0.1 ** (epoch // int(num_epochs * 0.8)))\n",
        "\n",
        "        model.train()\n",
        "        epoch_losses_training = AverageMeter()\n",
        "        epoch_psnr_training = AverageMeter()\n",
        "\n",
        "        with tqdm(total=(len(train_dataset) - len(train_dataset) % batch_size), ncols=80) as t:\n",
        "            t.set_description('epoch: {}/{}'.format(epoch, num_epochs - 1))\n",
        "\n",
        "            for data in train_dataloader:\n",
        "                inputs, labels = data\n",
        "\n",
        "                inputs = inputs.to(device)\n",
        "                labels = labels.to(device)\n",
        "\n",
        "                preds = model(inputs)\n",
        "\n",
        "                loss = criterion(preds, labels)\n",
        "\n",
        "                epoch_losses_training.update(loss.item(), len(inputs))\n",
        "                epoch_psnr_training.update(calc_psnr(preds, labels), len(inputs))\n",
        "\n",
        "                optimizer.zero_grad()\n",
        "                loss.backward()\n",
        "                optimizer.step()\n",
        "\n",
        "                t.set_postfix(loss='{:.6f}'.format(epoch_losses_training.avg))\n",
        "                t.update(len(inputs))\n",
        "\n",
        "\n",
        "        epoch_train_losses.append(epoch_losses_training.avg)\n",
        "        epoch_train_psnrs.append(epoch_psnr_training.avg)\n",
        "\n",
        "        torch.save(model.state_dict(), os.path.join(outputs_dir, 'epoch_{}.pth'.format(epoch)))\n",
        "\n",
        "        model.eval()\n",
        "\n",
        "        epoch_psnr_val = AverageMeter()\n",
        "        epoch_losses_val = AverageMeter()\n",
        "\n",
        "        for data in eval_dataloader:\n",
        "            inputs, labels = data\n",
        "\n",
        "            inputs = inputs.to(device)\n",
        "            labels = labels.to(device)\n",
        "\n",
        "            with torch.no_grad():\n",
        "                preds = model(inputs).clamp(0.0, 1.0)\n",
        "\n",
        "            epoch_psnr_val.update(calc_psnr(preds, labels), len(inputs))\n",
        "            epoch_losses_val.update(loss.item(), len(inputs))\n",
        "\n",
        "        print('eval psnr: {:.2f}'.format(epoch_psnr_val.avg))\n",
        "        epoch_val_psnrs.append(epoch_psnr_val.avg)\n",
        "        epoch_val_losses.append(epoch_losses_val.avg)\n",
        "\n",
        "        if epoch_psnr_val.avg > best_psnr:\n",
        "            best_epoch = epoch\n",
        "            best_psnr = epoch_psnr_val.avg\n",
        "            best_weights = copy.deepcopy(model.state_dict())\n",
        "\n",
        "    print('best epoch: {}, psnr: {:.2f}'.format(best_epoch, best_psnr))\n",
        "    torch.save(best_weights, os.path.join(outputs_dir, 'best.pth'))\n",
        "\n",
        "\n",
        "    from matplotlib import pyplot as plt\n",
        "    epoch_train_psnrs_values = [x.detach().numpy() for x in epoch_train_psnrs]\n",
        "    epoch_val_psnrs_values = [x.detach().numpy() for x in epoch_val_psnrs]\n",
        "    plt.plot(epoch_train_psnrs_values)\n",
        "    plt.plot(epoch_val_psnrs_values)\n",
        "    plt.title(\"PSNR plots\")\n",
        "    plt.ylabel(\"PSNR\")\n",
        "    plt.xlabel(\"epoch\")\n",
        "    plt.legend(\n",
        "        [\"train\", \"validation\"],\n",
        "        bbox_to_anchor=(1.02, 1),\n",
        "        loc=\"upper left\",\n",
        "        borderaxespad=0,\n",
        "        fontsize=\"x-small\",\n",
        "    )\n",
        "\n",
        "    plt.savefig(\"/content/drive/MyDrive/ML Project/ESPCN_Model_PSNR.png\", bbox_inches=\"tight\", dpi=600)\n",
        "    plt.show()\n",
        "\n",
        "    plt.plot(epoch_train_losses)\n",
        "    plt.plot(epoch_val_losses)\n",
        "    plt.title(\"Loss plots\")\n",
        "    plt.ylabel(\"Loss\")\n",
        "    plt.xlabel(\"epoch\")\n",
        "    plt.legend(\n",
        "        [\"train\", \"validation\"],\n",
        "        bbox_to_anchor=(1.02, 1),\n",
        "        loc=\"upper left\",\n",
        "        borderaxespad=0,\n",
        "        fontsize=\"x-small\",\n",
        "    )\n",
        "\n",
        "    plt.savefig(\"/content/drive/MyDrive/ML Project/ESPCN_Model_MSE_loss.png\", bbox_inches=\"tight\", dpi=600)\n",
        "    plt.show()"
      ]
    }
  ],
  "metadata": {
    "colab": {
      "name": "ESPCN.ipynb",
      "provenance": []
    },
    "kernelspec": {
      "display_name": "Python 3",
      "name": "python3"
    },
    "language_info": {
      "name": "python"
    }
  },
  "nbformat": 4,
  "nbformat_minor": 0
}
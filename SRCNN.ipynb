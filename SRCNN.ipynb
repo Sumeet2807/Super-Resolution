{
  "cells": [
    {
      "cell_type": "code",
      "execution_count": null,
      "metadata": {
        "id": "W7JWWBupfFel"
      },
      "outputs": [],
      "source": [
        "from torch import nn\n",
        "\n",
        "\n",
        "class SRCNN(nn.Module):\n",
        "    def __init__(self, num_channels=1):\n",
        "        super(SRCNN, self).__init__()\n",
        "        self.conv1 = nn.Conv2d(num_channels, 64, kernel_size=9, padding=9 // 2)\n",
        "        self.conv2 = nn.Conv2d(64, 32, kernel_size=5, padding=5 // 2)\n",
        "        self.conv3 = nn.Conv2d(32, num_channels, kernel_size=5, padding=5 // 2)\n",
        "        self.relu = nn.ReLU(inplace=True)\n",
        "\n",
        "    def forward(self, x):\n",
        "        x = self.relu(self.conv1(x))\n",
        "        x = self.relu(self.conv2(x))\n",
        "        x = self.conv3(x)\n",
        "        return x"
      ]
    },
    {
      "cell_type": "code",
      "execution_count": null,
      "metadata": {
        "id": "wGTSR7Lzih89"
      },
      "outputs": [],
      "source": [
        "import h5py\n",
        "import numpy as np\n",
        "from torch.utils.data import Dataset\n",
        "\n",
        "\n",
        "class TrainDataset(Dataset):\n",
        "    def __init__(self, h5_file):\n",
        "        super(TrainDataset, self).__init__()\n",
        "        self.h5_file = h5_file\n",
        "\n",
        "    def __getitem__(self, idx):\n",
        "        with h5py.File(self.h5_file, 'r') as f:\n",
        "            print(f['lr'][idx].shape)\n",
        "            return np.expand_dims(f['lr'][idx] / 255., 0), np.expand_dims(f['hr'][idx] / 255., 0)\n",
        "\n",
        "    def __len__(self):\n",
        "        with h5py.File(self.h5_file, 'r') as f:\n",
        "            return len(f['lr'])\n",
        "\n",
        "\n",
        "class EvalDataset(Dataset):\n",
        "    def __init__(self, h5_file):\n",
        "        super(EvalDataset, self).__init__()\n",
        "        self.h5_file = h5_file\n",
        "\n",
        "    def __getitem__(self, idx):\n",
        "        with h5py.File(self.h5_file, 'r') as f:\n",
        "            return np.expand_dims(f['lr'][str(idx)][:, :] / 255., 0), np.expand_dims(f['hr'][str(idx)][:, :] / 255., 0)\n",
        "\n",
        "    def __len__(self):\n",
        "        with h5py.File(self.h5_file, 'r') as f:\n",
        "            return len(f['lr'])"
      ]
    },
    {
      "cell_type": "code",
      "execution_count": null,
      "metadata": {
        "id": "8qZXS0yN0rkx"
      },
      "outputs": [],
      "source": [
        "import glob\n",
        "import random\n",
        "import os\n",
        "import numpy as np\n",
        "\n",
        "import torch\n",
        "from torch.utils.data import Dataset\n",
        "from PIL import Image\n",
        "import torchvision.transforms as transforms\n",
        "from torch.utils.data import DataLoader\n",
        "\n",
        "\n",
        "# Normalization parameters for pre-trained PyTorch models\n",
        "mean = np.array([0.485, 0.456, 0.406])\n",
        "std = np.array([0.229, 0.224, 0.225])\n",
        "\n",
        "\n",
        "class ImageDataset(Dataset):\n",
        "    def __init__(self, root, hr_shape, lr_factor):\n",
        "        hr_height, hr_width = hr_shape\n",
        "        # Transforms for low resolution images and high resolution images\n",
        "        self.lr_transform = transforms.Compose(\n",
        "            [\n",
        "                transforms.Resize((hr_height // lr_factor, hr_height // lr_factor), Image.BICUBIC),\n",
        "                transforms.ToTensor(),\n",
        "                transforms.Normalize(mean, std),\n",
        "            ]\n",
        "        )\n",
        "        self.hr_transform = transforms.Compose(\n",
        "            [\n",
        "                transforms.Resize((hr_height, hr_height), Image.BICUBIC),\n",
        "                transforms.ToTensor(),\n",
        "                transforms.Normalize(mean, std),\n",
        "            ]\n",
        "        )\n",
        "\n",
        "        self.files = sorted(glob.glob(root + \"/*.png\"))\n",
        "\n",
        "    def __getitem__(self, index):\n",
        "        img = Image.open(self.files[index % len(self.files)])\n",
        "        img_lr = self.lr_transform(img)\n",
        "        img_hr = self.hr_transform(img)\n",
        "\n",
        "        return {\"lr\": img_lr, \"hr\": img_hr}\n",
        "\n",
        "    def __len__(self):\n",
        "        return len(self.files)\n",
        "  "
      ]
    },
    {
      "cell_type": "code",
      "execution_count": null,
      "metadata": {
        "id": "WMJwK3l0inJg"
      },
      "outputs": [],
      "source": [
        "import torch\n",
        "import numpy as np\n",
        "\n",
        "\n",
        "def convert_rgb_to_y(img):\n",
        "    if type(img) == np.ndarray:\n",
        "        return 16. + (64.738 * img[:, :, 0] + 129.057 * img[:, :, 1] + 25.064 * img[:, :, 2]) / 256.\n",
        "    elif type(img) == torch.Tensor:\n",
        "        if len(img.shape) == 4:\n",
        "            img = img.squeeze(0)\n",
        "        return 16. + (64.738 * img[0, :, :] + 129.057 * img[1, :, :] + 25.064 * img[2, :, :]) / 256.\n",
        "    else:\n",
        "        raise Exception('Unknown Type', type(img))\n",
        "\n",
        "\n",
        "def convert_rgb_to_ycbcr(img):\n",
        "    if type(img) == np.ndarray:\n",
        "        y = 16. + (64.738 * img[:, :, 0] + 129.057 * img[:, :, 1] + 25.064 * img[:, :, 2]) / 256.\n",
        "        cb = 128. + (-37.945 * img[:, :, 0] - 74.494 * img[:, :, 1] + 112.439 * img[:, :, 2]) / 256.\n",
        "        cr = 128. + (112.439 * img[:, :, 0] - 94.154 * img[:, :, 1] - 18.285 * img[:, :, 2]) / 256.\n",
        "        return np.array([y, cb, cr]).transpose([1, 2, 0])\n",
        "    elif type(img) == torch.Tensor:\n",
        "        if len(img.shape) == 4:\n",
        "            img = img.squeeze(0)\n",
        "        y = 16. + (64.738 * img[0, :, :] + 129.057 * img[1, :, :] + 25.064 * img[2, :, :]) / 256.\n",
        "        cb = 128. + (-37.945 * img[0, :, :] - 74.494 * img[1, :, :] + 112.439 * img[2, :, :]) / 256.\n",
        "        cr = 128. + (112.439 * img[0, :, :] - 94.154 * img[1, :, :] - 18.285 * img[2, :, :]) / 256.\n",
        "        return torch.cat([y, cb, cr], 0).permute(1, 2, 0)\n",
        "    else:\n",
        "        raise Exception('Unknown Type', type(img))\n",
        "\n",
        "\n",
        "def convert_ycbcr_to_rgb(img):\n",
        "    if type(img) == np.ndarray:\n",
        "        r = 298.082 * img[:, :, 0] / 256. + 408.583 * img[:, :, 2] / 256. - 222.921\n",
        "        g = 298.082 * img[:, :, 0] / 256. - 100.291 * img[:, :, 1] / 256. - 208.120 * img[:, :, 2] / 256. + 135.576\n",
        "        b = 298.082 * img[:, :, 0] / 256. + 516.412 * img[:, :, 1] / 256. - 276.836\n",
        "        return np.array([r, g, b]).transpose([1, 2, 0])\n",
        "    elif type(img) == torch.Tensor:\n",
        "        if len(img.shape) == 4:\n",
        "            img = img.squeeze(0)\n",
        "        r = 298.082 * img[0, :, :] / 256. + 408.583 * img[2, :, :] / 256. - 222.921\n",
        "        g = 298.082 * img[0, :, :] / 256. - 100.291 * img[1, :, :] / 256. - 208.120 * img[2, :, :] / 256. + 135.576\n",
        "        b = 298.082 * img[0, :, :] / 256. + 516.412 * img[1, :, :] / 256. - 276.836\n",
        "        return torch.cat([r, g, b], 0).permute(1, 2, 0)\n",
        "    else:\n",
        "        raise Exception('Unknown Type', type(img))\n",
        "\n",
        "\n",
        "def calc_psnr(img1, img2):\n",
        "    return 10. * torch.log10(1. / torch.mean((img1 - img2) ** 2))\n",
        "\n",
        "\n",
        "class AverageMeter(object):\n",
        "    def __init__(self):\n",
        "        self.reset()\n",
        "\n",
        "    def reset(self):\n",
        "        self.val = 0\n",
        "        self.avg = 0\n",
        "        self.sum = 0\n",
        "        self.count = 0\n",
        "\n",
        "    def update(self, val, n=1):\n",
        "        self.val = val\n",
        "        self.sum += val * n\n",
        "        self.count += n\n",
        "        self.avg = self.sum / self.count"
      ]
    },
    {
      "cell_type": "code",
      "execution_count": null,
      "metadata": {
        "colab": {
          "base_uri": "https://localhost:8080/",
          "height": 1000
        },
        "id": "Bd7WqLLHiuVl",
        "outputId": "fe5c3abc-6a23-452e-e7c2-33ab8e03c1e1"
      },
      "outputs": [
        {
          "name": "stderr",
          "output_type": "stream",
          "text": [
            "/usr/local/lib/python3.7/dist-packages/torch/utils/data/dataloader.py:481: UserWarning: This DataLoader will create 8 worker processes in total. Our suggested max number of worker in current system is 2, which is smaller than what this DataLoader is going to create. Please be aware that excessive worker creation might get DataLoader running slow or even freeze, lower the worker number to avoid potential slowness/freeze if necessary.\n",
            "  cpuset_checked))\n",
            "epoch: 0/49: 100%|██████████| 21904/21904 [04:37<00:00, 78.99it/s, loss=0.001584]\n"
          ]
        },
        {
          "name": "stdout",
          "output_type": "stream",
          "text": [
            "eval psnr: 35.26\n"
          ]
        },
        {
          "name": "stderr",
          "output_type": "stream",
          "text": [
            "epoch: 1/49: 100%|██████████| 21904/21904 [04:34<00:00, 79.73it/s, loss=0.000718]\n"
          ]
        },
        {
          "name": "stdout",
          "output_type": "stream",
          "text": [
            "eval psnr: 35.49\n"
          ]
        },
        {
          "name": "stderr",
          "output_type": "stream",
          "text": [
            "epoch: 2/49: 100%|██████████| 21904/21904 [04:43<00:00, 77.19it/s, loss=0.000688]\n"
          ]
        },
        {
          "name": "stdout",
          "output_type": "stream",
          "text": [
            "eval psnr: 35.57\n"
          ]
        },
        {
          "name": "stderr",
          "output_type": "stream",
          "text": [
            "epoch: 3/49: 100%|██████████| 21904/21904 [04:49<00:00, 75.57it/s, loss=0.000712]\n"
          ]
        },
        {
          "name": "stdout",
          "output_type": "stream",
          "text": [
            "eval psnr: 35.67\n"
          ]
        },
        {
          "name": "stderr",
          "output_type": "stream",
          "text": [
            "epoch: 4/49: 100%|██████████| 21904/21904 [04:52<00:00, 74.81it/s, loss=0.000652]\n"
          ]
        },
        {
          "name": "stdout",
          "output_type": "stream",
          "text": [
            "eval psnr: 35.40\n"
          ]
        },
        {
          "name": "stderr",
          "output_type": "stream",
          "text": [
            "epoch: 5/49: 100%|██████████| 21904/21904 [04:48<00:00, 75.99it/s, loss=0.000648]\n"
          ]
        },
        {
          "name": "stdout",
          "output_type": "stream",
          "text": [
            "eval psnr: 35.84\n"
          ]
        },
        {
          "name": "stderr",
          "output_type": "stream",
          "text": [
            "epoch: 6/49: 100%|██████████| 21904/21904 [04:49<00:00, 75.58it/s, loss=0.000641]\n"
          ]
        },
        {
          "name": "stdout",
          "output_type": "stream",
          "text": [
            "eval psnr: 35.94\n"
          ]
        },
        {
          "name": "stderr",
          "output_type": "stream",
          "text": [
            "epoch: 7/49: 100%|██████████| 21904/21904 [04:51<00:00, 75.19it/s, loss=0.000621]\n"
          ]
        },
        {
          "name": "stdout",
          "output_type": "stream",
          "text": [
            "eval psnr: 36.03\n"
          ]
        },
        {
          "name": "stderr",
          "output_type": "stream",
          "text": [
            "epoch: 8/49: 100%|██████████| 21904/21904 [05:03<00:00, 72.14it/s, loss=0.000614]\n"
          ]
        },
        {
          "name": "stdout",
          "output_type": "stream",
          "text": [
            "eval psnr: 36.03\n"
          ]
        },
        {
          "name": "stderr",
          "output_type": "stream",
          "text": [
            "epoch: 9/49: 100%|██████████| 21904/21904 [04:55<00:00, 74.11it/s, loss=0.000608]\n"
          ]
        },
        {
          "name": "stdout",
          "output_type": "stream",
          "text": [
            "eval psnr: 35.97\n"
          ]
        },
        {
          "name": "stderr",
          "output_type": "stream",
          "text": [
            "epoch: 10/49: 100%|██████████| 21904/21904 [04:56<00:00, 73.77it/s, loss=0.000606]\n"
          ]
        },
        {
          "name": "stdout",
          "output_type": "stream",
          "text": [
            "eval psnr: 36.07\n"
          ]
        },
        {
          "name": "stderr",
          "output_type": "stream",
          "text": [
            "epoch: 11/49: 100%|██████████| 21904/21904 [04:55<00:00, 74.19it/s, loss=0.000597]\n"
          ]
        },
        {
          "name": "stdout",
          "output_type": "stream",
          "text": [
            "eval psnr: 36.13\n"
          ]
        },
        {
          "name": "stderr",
          "output_type": "stream",
          "text": [
            "epoch: 12/49: 100%|██████████| 21904/21904 [04:53<00:00, 74.71it/s, loss=0.000598]\n"
          ]
        },
        {
          "name": "stdout",
          "output_type": "stream",
          "text": [
            "eval psnr: 36.14\n"
          ]
        },
        {
          "name": "stderr",
          "output_type": "stream",
          "text": [
            "epoch: 13/49: 100%|██████████| 21904/21904 [04:50<00:00, 75.38it/s, loss=0.000588]\n"
          ]
        },
        {
          "name": "stdout",
          "output_type": "stream",
          "text": [
            "eval psnr: 36.22\n"
          ]
        },
        {
          "name": "stderr",
          "output_type": "stream",
          "text": [
            "epoch: 14/49: 100%|██████████| 21904/21904 [04:50<00:00, 75.32it/s, loss=0.000587]\n"
          ]
        },
        {
          "name": "stdout",
          "output_type": "stream",
          "text": [
            "eval psnr: 36.17\n"
          ]
        },
        {
          "name": "stderr",
          "output_type": "stream",
          "text": [
            "epoch: 15/49: 100%|██████████| 21904/21904 [04:37<00:00, 78.91it/s, loss=0.000583]\n"
          ]
        },
        {
          "name": "stdout",
          "output_type": "stream",
          "text": [
            "eval psnr: 36.27\n"
          ]
        },
        {
          "name": "stderr",
          "output_type": "stream",
          "text": [
            "epoch: 16/49: 100%|██████████| 21904/21904 [04:49<00:00, 75.72it/s, loss=0.000583]\n"
          ]
        },
        {
          "name": "stdout",
          "output_type": "stream",
          "text": [
            "eval psnr: 36.21\n"
          ]
        },
        {
          "name": "stderr",
          "output_type": "stream",
          "text": [
            "epoch: 17/49: 100%|██████████| 21904/21904 [04:54<00:00, 74.38it/s, loss=0.000578]\n"
          ]
        },
        {
          "name": "stdout",
          "output_type": "stream",
          "text": [
            "eval psnr: 36.28\n"
          ]
        },
        {
          "name": "stderr",
          "output_type": "stream",
          "text": [
            "epoch: 18/49: 100%|██████████| 21904/21904 [04:49<00:00, 75.74it/s, loss=0.000575]\n"
          ]
        },
        {
          "name": "stdout",
          "output_type": "stream",
          "text": [
            "eval psnr: 36.32\n"
          ]
        },
        {
          "name": "stderr",
          "output_type": "stream",
          "text": [
            "epoch: 19/49: 100%|██████████| 21904/21904 [04:50<00:00, 75.48it/s, loss=0.000576]\n"
          ]
        },
        {
          "name": "stdout",
          "output_type": "stream",
          "text": [
            "eval psnr: 36.32\n"
          ]
        },
        {
          "name": "stderr",
          "output_type": "stream",
          "text": [
            "epoch: 20/49: 100%|██████████| 21904/21904 [04:55<00:00, 74.20it/s, loss=0.000572]\n"
          ]
        },
        {
          "name": "stdout",
          "output_type": "stream",
          "text": [
            "eval psnr: 34.35\n"
          ]
        },
        {
          "name": "stderr",
          "output_type": "stream",
          "text": [
            "epoch: 21/49: 100%|██████████| 21904/21904 [04:58<00:00, 73.38it/s, loss=0.000568]\n"
          ]
        },
        {
          "name": "stdout",
          "output_type": "stream",
          "text": [
            "eval psnr: 36.20\n"
          ]
        },
        {
          "name": "stderr",
          "output_type": "stream",
          "text": [
            "epoch: 22/49: 100%|██████████| 21904/21904 [04:55<00:00, 74.01it/s, loss=0.000568]\n"
          ]
        },
        {
          "name": "stdout",
          "output_type": "stream",
          "text": [
            "eval psnr: 36.23\n"
          ]
        },
        {
          "name": "stderr",
          "output_type": "stream",
          "text": [
            "epoch: 23/49: 100%|██████████| 21904/21904 [04:52<00:00, 74.76it/s, loss=0.000567]\n"
          ]
        },
        {
          "name": "stdout",
          "output_type": "stream",
          "text": [
            "eval psnr: 35.87\n"
          ]
        },
        {
          "name": "stderr",
          "output_type": "stream",
          "text": [
            "epoch: 24/49: 100%|██████████| 21904/21904 [04:49<00:00, 75.65it/s, loss=0.000565]\n"
          ]
        },
        {
          "name": "stdout",
          "output_type": "stream",
          "text": [
            "eval psnr: 36.21\n"
          ]
        },
        {
          "name": "stderr",
          "output_type": "stream",
          "text": [
            "epoch: 25/49: 100%|██████████| 21904/21904 [04:48<00:00, 75.83it/s, loss=0.000567]\n"
          ]
        },
        {
          "name": "stdout",
          "output_type": "stream",
          "text": [
            "eval psnr: 36.37\n"
          ]
        },
        {
          "name": "stderr",
          "output_type": "stream",
          "text": [
            "epoch: 26/49: 100%|██████████| 21904/21904 [04:52<00:00, 74.81it/s, loss=0.000561]\n"
          ]
        },
        {
          "name": "stdout",
          "output_type": "stream",
          "text": [
            "eval psnr: 36.22\n"
          ]
        },
        {
          "name": "stderr",
          "output_type": "stream",
          "text": [
            "epoch: 27/49: 100%|██████████| 21904/21904 [05:01<00:00, 72.77it/s, loss=0.000562]\n"
          ]
        },
        {
          "name": "stdout",
          "output_type": "stream",
          "text": [
            "eval psnr: 36.33\n"
          ]
        },
        {
          "name": "stderr",
          "output_type": "stream",
          "text": [
            "epoch: 28/49: 100%|██████████| 21904/21904 [04:54<00:00, 74.30it/s, loss=0.000559]\n"
          ]
        },
        {
          "name": "stdout",
          "output_type": "stream",
          "text": [
            "eval psnr: 36.34\n"
          ]
        },
        {
          "name": "stderr",
          "output_type": "stream",
          "text": [
            "epoch: 29/49: 100%|██████████| 21904/21904 [04:58<00:00, 73.46it/s, loss=0.000557]\n"
          ]
        },
        {
          "name": "stdout",
          "output_type": "stream",
          "text": [
            "eval psnr: 36.21\n"
          ]
        },
        {
          "name": "stderr",
          "output_type": "stream",
          "text": [
            "epoch: 30/49: 100%|██████████| 21904/21904 [04:41<00:00, 77.73it/s, loss=0.000556]\n"
          ]
        },
        {
          "name": "stdout",
          "output_type": "stream",
          "text": [
            "eval psnr: 36.16\n"
          ]
        },
        {
          "name": "stderr",
          "output_type": "stream",
          "text": [
            "epoch: 31/49: 100%|██████████| 21904/21904 [04:51<00:00, 75.14it/s, loss=0.000556]\n"
          ]
        },
        {
          "name": "stdout",
          "output_type": "stream",
          "text": [
            "eval psnr: 36.39\n"
          ]
        },
        {
          "name": "stderr",
          "output_type": "stream",
          "text": [
            "epoch: 32/49: 100%|██████████| 21904/21904 [04:54<00:00, 74.39it/s, loss=0.000552]\n"
          ]
        },
        {
          "name": "stdout",
          "output_type": "stream",
          "text": [
            "eval psnr: 36.43\n"
          ]
        },
        {
          "name": "stderr",
          "output_type": "stream",
          "text": [
            "epoch: 33/49: 100%|██████████| 21904/21904 [04:55<00:00, 74.24it/s, loss=0.000554]\n"
          ]
        },
        {
          "name": "stdout",
          "output_type": "stream",
          "text": [
            "eval psnr: 36.42\n"
          ]
        },
        {
          "name": "stderr",
          "output_type": "stream",
          "text": [
            "epoch: 34/49: 100%|██████████| 21904/21904 [04:52<00:00, 74.77it/s, loss=0.000552]\n"
          ]
        },
        {
          "name": "stdout",
          "output_type": "stream",
          "text": [
            "eval psnr: 36.38\n"
          ]
        },
        {
          "name": "stderr",
          "output_type": "stream",
          "text": [
            "epoch: 35/49: 100%|██████████| 21904/21904 [04:55<00:00, 74.10it/s, loss=0.000551]\n"
          ]
        },
        {
          "name": "stdout",
          "output_type": "stream",
          "text": [
            "eval psnr: 36.36\n"
          ]
        },
        {
          "name": "stderr",
          "output_type": "stream",
          "text": [
            "epoch: 36/49: 100%|██████████| 21904/21904 [04:53<00:00, 74.52it/s, loss=0.000552]\n"
          ]
        },
        {
          "name": "stdout",
          "output_type": "stream",
          "text": [
            "eval psnr: 36.41\n"
          ]
        },
        {
          "name": "stderr",
          "output_type": "stream",
          "text": [
            "epoch: 37/49: 100%|██████████| 21904/21904 [04:54<00:00, 74.29it/s, loss=0.000549]\n"
          ]
        },
        {
          "name": "stdout",
          "output_type": "stream",
          "text": [
            "eval psnr: 36.44\n"
          ]
        },
        {
          "name": "stderr",
          "output_type": "stream",
          "text": [
            "epoch: 38/49: 100%|██████████| 21904/21904 [04:56<00:00, 73.93it/s, loss=0.000547]\n"
          ]
        },
        {
          "name": "stdout",
          "output_type": "stream",
          "text": [
            "eval psnr: 36.38\n"
          ]
        },
        {
          "name": "stderr",
          "output_type": "stream",
          "text": [
            "epoch: 39/49: 100%|██████████| 21904/21904 [04:51<00:00, 75.25it/s, loss=0.000548]\n"
          ]
        },
        {
          "name": "stdout",
          "output_type": "stream",
          "text": [
            "eval psnr: 36.46\n"
          ]
        },
        {
          "name": "stderr",
          "output_type": "stream",
          "text": [
            "epoch: 40/49: 100%|██████████| 21904/21904 [04:58<00:00, 73.47it/s, loss=0.000548]\n"
          ]
        },
        {
          "name": "stdout",
          "output_type": "stream",
          "text": [
            "eval psnr: 36.33\n"
          ]
        },
        {
          "name": "stderr",
          "output_type": "stream",
          "text": [
            "epoch: 41/49: 100%|██████████| 21904/21904 [04:57<00:00, 73.64it/s, loss=0.000546]\n"
          ]
        },
        {
          "name": "stdout",
          "output_type": "stream",
          "text": [
            "eval psnr: 36.17\n"
          ]
        },
        {
          "name": "stderr",
          "output_type": "stream",
          "text": [
            "epoch: 42/49: 100%|██████████| 21904/21904 [04:54<00:00, 74.50it/s, loss=0.000545]\n"
          ]
        },
        {
          "name": "stdout",
          "output_type": "stream",
          "text": [
            "eval psnr: 36.42\n"
          ]
        },
        {
          "name": "stderr",
          "output_type": "stream",
          "text": [
            "epoch: 43/49: 100%|██████████| 21904/21904 [04:54<00:00, 74.48it/s, loss=0.000544]\n"
          ]
        },
        {
          "name": "stdout",
          "output_type": "stream",
          "text": [
            "eval psnr: 36.44\n"
          ]
        },
        {
          "name": "stderr",
          "output_type": "stream",
          "text": [
            "epoch: 44/49: 100%|██████████| 21904/21904 [05:01<00:00, 72.54it/s, loss=0.000545]\n"
          ]
        },
        {
          "name": "stdout",
          "output_type": "stream",
          "text": [
            "eval psnr: 36.28\n"
          ]
        },
        {
          "name": "stderr",
          "output_type": "stream",
          "text": [
            "epoch: 45/49: 100%|██████████| 21904/21904 [05:08<00:00, 71.00it/s, loss=0.000543]\n"
          ]
        },
        {
          "name": "stdout",
          "output_type": "stream",
          "text": [
            "eval psnr: 35.29\n"
          ]
        },
        {
          "name": "stderr",
          "output_type": "stream",
          "text": [
            "epoch: 46/49: 100%|██████████| 21904/21904 [04:55<00:00, 74.19it/s, loss=0.000543]\n"
          ]
        },
        {
          "name": "stdout",
          "output_type": "stream",
          "text": [
            "eval psnr: 36.37\n"
          ]
        },
        {
          "name": "stderr",
          "output_type": "stream",
          "text": [
            "epoch: 47/49: 100%|██████████| 21904/21904 [05:01<00:00, 72.64it/s, loss=0.000542]\n"
          ]
        },
        {
          "name": "stdout",
          "output_type": "stream",
          "text": [
            "eval psnr: 36.44\n"
          ]
        },
        {
          "name": "stderr",
          "output_type": "stream",
          "text": [
            "epoch: 48/49: 100%|██████████| 21904/21904 [04:56<00:00, 73.82it/s, loss=0.000540]\n"
          ]
        },
        {
          "name": "stdout",
          "output_type": "stream",
          "text": [
            "eval psnr: 36.45\n"
          ]
        },
        {
          "name": "stderr",
          "output_type": "stream",
          "text": [
            "epoch: 49/49: 100%|██████████| 21904/21904 [05:01<00:00, 72.70it/s, loss=0.000541]\n"
          ]
        },
        {
          "name": "stdout",
          "output_type": "stream",
          "text": [
            "eval psnr: 36.43\n",
            "best epoch: 39, psnr: 36.46\n"
          ]
        },
        {
          "data": {
            "image/png": "[encoded data removed]",
            "text/plain": [
              "<Figure size 432x288 with 1 Axes>"
            ]
          },
          "metadata": {
            "needs_background": "light"
          },
          "output_type": "display_data"
        },
        {
          "data": {
            "image/png": "[encoded data removed]",
            "text/plain": [
              "<Figure size 432x288 with 1 Axes>"
            ]
          },
          "metadata": {
            "needs_background": "light"
          },
          "output_type": "display_data"
        }
      ],
      "source": [
        "import argparse\n",
        "import os\n",
        "import copy\n",
        "\n",
        "import torch\n",
        "from torch import nn\n",
        "import torch.optim as optim\n",
        "import torch.backends.cudnn as cudnn\n",
        "from torch.utils.data.dataloader import DataLoader\n",
        "from tqdm import tqdm\n",
        "\n",
        "\n",
        "if __name__ == '__main__':\n",
        "\n",
        "    train_file = \"/content/drive/MyDrive/ML Project/91-image_x2.h5\"\n",
        "    eval_file = \"/content/drive/MyDrive/ML Project/Set5_x2.h5\"\n",
        "    scale = 2\n",
        "    outputs_dir = \"/output\"\n",
        "    lr = 0.001\n",
        "    batch_size = 16\n",
        "    num_epochs = 50\n",
        "    num_workers = 8\n",
        "    seed = 123\n",
        "\n",
        "    outputs_dir = os.path.join(outputs_dir, 'x{}'.format(scale))\n",
        "\n",
        "    if not os.path.exists(outputs_dir):\n",
        "        os.makedirs(outputs_dir)\n",
        "\n",
        "\n",
        "    cudnn.benchmark = True\n",
        "    device = torch.device('cuda:0' if torch.cuda.is_available() else 'cpu')\n",
        "\n",
        "    torch.manual_seed(seed)\n",
        "\n",
        "    model = SRCNN().to(device)\n",
        "    criterion = nn.MSELoss()\n",
        "    optimizer = optim.Adam([\n",
        "        {'params': model.conv1.parameters()},\n",
        "        {'params': model.conv2.parameters()},\n",
        "        {'params': model.conv3.parameters(), 'lr': lr * 0.1}\n",
        "    ], lr=lr)\n",
        "\n",
        "    train_dataset = TrainDataset(train_file)\n",
        "    train_dataloader = DataLoader(dataset=train_dataset,\n",
        "                                  batch_size=batch_size,\n",
        "                                  shuffle=True,\n",
        "                                  num_workers=num_workers,\n",
        "                                  pin_memory=True,\n",
        "                                  drop_last=True)\n",
        "    eval_dataset = EvalDataset(eval_file)\n",
        "    eval_dataloader = DataLoader(dataset=eval_dataset, batch_size=1)\n",
        "\n",
        "    best_weights = copy.deepcopy(model.state_dict())\n",
        "    best_epoch = 0\n",
        "    best_psnr = 0.0\n",
        "\n",
        "    epoch_train_psnrs = []\n",
        "    epoch_val_psnrs = []\n",
        "\n",
        "    epoch_train_losses = []\n",
        "    epoch_val_losses = []\n",
        "\n",
        "    for epoch in range(num_epochs):\n",
        "        model.train()\n",
        "        epoch_losses_training = AverageMeter()\n",
        "        epoch_psnr_training = AverageMeter()\n",
        "\n",
        "        with tqdm(total=(len(train_dataset) - len(train_dataset) % batch_size)) as t:\n",
        "            t.set_description('epoch: {}/{}'.format(epoch, num_epochs - 1))\n",
        "\n",
        "            for data in train_dataloader:\n",
        "                inputs, labels = data\n",
        "\n",
        "                inputs = inputs.to(device)\n",
        "                labels = labels.to(device)\n",
        "\n",
        "                preds = model(inputs)\n",
        "\n",
        "                loss = criterion(preds, labels)\n",
        "\n",
        "                epoch_losses_training.update(loss.item(), len(inputs))\n",
        "                epoch_psnr_training.update(calc_psnr(preds, labels), len(inputs))\n",
        "\n",
        "                optimizer.zero_grad()\n",
        "                loss.backward()\n",
        "                optimizer.step()\n",
        "\n",
        "                t.set_postfix(loss='{:.6f}'.format(epoch_losses_training.avg))\n",
        "                \n",
        "                t.update(len(inputs))\n",
        "\n",
        "        epoch_train_losses.append(epoch_losses_training.avg)\n",
        "        epoch_train_psnrs.append(epoch_psnr_training.avg)\n",
        "\n",
        "        torch.save(model.state_dict(), os.path.join(outputs_dir, 'epoch_{}.pth'.format(epoch)))\n",
        "\n",
        "        model.eval()\n",
        "        epoch_psnr_val = AverageMeter()\n",
        "        epoch_losses_val = AverageMeter()\n",
        "        for data in eval_dataloader:\n",
        "            inputs, labels = data\n",
        "\n",
        "            inputs = inputs.to(device)\n",
        "            labels = labels.to(device)\n",
        "\n",
        "            with torch.no_grad():\n",
        "                preds = model(inputs).clamp(0.0, 1.0)\n",
        "            \n",
        "            loss = criterion(preds, labels)\n",
        "            epoch_psnr_val.update(calc_psnr(preds, labels), len(inputs))\n",
        "            epoch_losses_val.update(loss.item(), len(inputs))\n",
        "\n",
        "        print('eval psnr: {:.2f}'.format(epoch_psnr_val.avg))\n",
        "        epoch_val_psnrs.append(epoch_psnr_val.avg)\n",
        "        epoch_val_losses.append(epoch_losses_val.avg)\n",
        "\n",
        "        if epoch_psnr_val.avg > best_psnr:\n",
        "            best_epoch = epoch\n",
        "            best_psnr = epoch_psnr_val.avg\n",
        "            best_weights = copy.deepcopy(model.state_dict())\n",
        "\n",
        "    print('best epoch: {}, psnr: {:.2f}'.format(best_epoch, best_psnr))\n",
        "    torch.save(best_weights, os.path.join(outputs_dir, 'best.pth'))\n",
        "\n",
        "    from matplotlib import pyplot as plt\n",
        "    epoch_train_psnrs_values = [x.detach().numpy() for x in epoch_train_psnrs]\n",
        "    epoch_val_psnrs_values = [x.detach().numpy() for x in epoch_val_psnrs]\n",
        "    plt.plot(epoch_train_psnrs_values)\n",
        "    plt.plot(epoch_val_psnrs_values)\n",
        "    plt.title(\"PSNR plots\")\n",
        "    plt.ylabel(\"PSNR\")\n",
        "    plt.xlabel(\"epoch\")\n",
        "    plt.legend(\n",
        "        [\"train\", \"validation\"],\n",
        "        bbox_to_anchor=(1.02, 1),\n",
        "        loc=\"upper left\",\n",
        "        borderaxespad=0,\n",
        "        fontsize=\"x-small\",\n",
        "    )\n",
        "\n",
        "    plt.savefig(\"/content/drive/MyDrive/ML Project/SRCNN_Model_PSNR.png\", bbox_inches=\"tight\", dpi=600)\n",
        "    plt.show()\n",
        "\n",
        "    plt.plot(epoch_train_losses)\n",
        "    plt.plot(epoch_val_losses)\n",
        "    plt.title(\"Loss plots\")\n",
        "    plt.ylabel(\"Loss\")\n",
        "    plt.xlabel(\"epoch\")\n",
        "    plt.legend(\n",
        "        [\"train\", \"validation\"],\n",
        "        bbox_to_anchor=(1.02, 1),\n",
        "        loc=\"upper left\",\n",
        "        borderaxespad=0,\n",
        "        fontsize=\"x-small\",\n",
        "    )\n",
        "\n",
        "    plt.savefig(\"/content/drive/MyDrive/ML Project/SRCNN_Model_MSE_loss.png\", bbox_inches=\"tight\", dpi=600)\n",
        "    plt.show()"
      ]
    },
    {
      "cell_type": "code",
      "execution_count": null,
      "metadata": {
        "colab": {
          "base_uri": "https://localhost:8080/",
          "height": 573
        },
        "id": "Zggz068QQx33",
        "outputId": "0e127149-88c5-4ce8-bb00-031e20cad8bb"
      },
      "outputs": [
        {
          "data": {
            "image/png": "[encoded data removed]",
            "text/plain": [
              "<Figure size 432x288 with 1 Axes>"
            ]
          },
          "metadata": {
            "needs_background": "light"
          },
          "output_type": "display_data"
        },
        {
          "data": {
            "image/png": "[encoded data removed]",
            "text/plain": [
              "<Figure size 432x288 with 1 Axes>"
            ]
          },
          "metadata": {
            "needs_background": "light"
          },
          "output_type": "display_data"
        }
      ],
      "source": [
        "from matplotlib import pyplot as plt\n",
        "epoch_train_psnrs_values = [x.detach().numpy() for x in epoch_train_psnrs]\n",
        "epoch_val_psnrs_values = [x.detach().numpy() for x in epoch_val_psnrs]\n",
        "plt.plot(epoch_train_psnrs_values)\n",
        "plt.plot(epoch_val_psnrs_values)\n",
        "plt.title(\"PSNR plots\")\n",
        "plt.ylabel(\"PSNR\")\n",
        "plt.xlabel(\"epoch\")\n",
        "plt.legend(\n",
        "        [\"train\", \"validation\"],\n",
        "        bbox_to_anchor=(1.02, 1),\n",
        "        loc=\"upper left\",\n",
        "        borderaxespad=0,\n",
        "        fontsize=\"x-small\",\n",
        "    )\n",
        "\n",
        "plt.savefig(\"/content/drive/MyDrive/ML Project/SRCNN_Model_PSNR.png\", bbox_inches=\"tight\", dpi=600)\n",
        "plt.show()\n",
        "\n",
        "\n",
        "plt.plot(epoch_train_losses)\n",
        "plt.plot(epoch_val_losses)\n",
        "plt.title(\"Loss plots\")\n",
        "plt.ylabel(\"Loss\")\n",
        "plt.xlabel(\"epoch\")\n",
        "plt.legend(\n",
        "        [\"train\", \"validation\"],\n",
        "        bbox_to_anchor=(1.02, 1),\n",
        "        loc=\"upper left\",\n",
        "        borderaxespad=0,\n",
        "        fontsize=\"x-small\",\n",
        "    )\n",
        "\n",
        "plt.savefig(\"/content/drive/MyDrive/ML Project/SRCNN_Model_MSE_loss.png\", bbox_inches=\"tight\", dpi=600)\n",
        "plt.show()"
      ]
    },
    {
      "cell_type": "code",
      "execution_count": null,
      "metadata": {
        "colab": {
          "base_uri": "https://localhost:8080/"
        },
        "id": "C4Nq_HUtwnA8",
        "outputId": "70e03e7e-a8d4-4d23-a155-701e4c1eca75"
      },
      "outputs": [
        {
          "name": "stdout",
          "output_type": "stream",
          "text": [
            "<HDF5 dataset \"hr\": shape (21910, 33, 33), type \"<f4\">\n",
            "(1, 33, 33)\n",
            "<HDF5 dataset \"4\": shape (344, 228), type \"<f4\">\n",
            "5\n"
          ]
        }
      ],
      "source": [
        "with h5py.File(\"/content/drive/MyDrive/ML Project/91-image_x2.h5\", 'r') as f:\n",
        "  print(f['hr'])\n",
        "  # return np.expand_dims(f['lr'][idx] / 255., 0), np.expand_dims(f['hr'][idx] / 255., 0)\n",
        "  print(np.expand_dims(f['lr'][0] / 255., 0).shape)\n",
        "\n",
        "\n",
        "with h5py.File(\"/content/drive/MyDrive/ML Project/Set5_x2.h5\", 'r') as f:\n",
        "  print(f['lr']['4'])\n",
        "  print(len(f['lr']))"
      ]
    }
  ],
  "metadata": {
    "colab": {
      "collapsed_sections": [],
      "name": "SRCNN.ipynb",
      "provenance": []
    },
    "kernelspec": {
      "display_name": "Python 3",
      "name": "python3"
    },
    "language_info": {
      "name": "python"
    }
  },
  "nbformat": 4,
  "nbformat_minor": 0
}
